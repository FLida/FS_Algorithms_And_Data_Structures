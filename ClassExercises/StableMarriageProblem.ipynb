{
 "cells": [
  {
   "cell_type": "code",
   "execution_count": 2,
   "metadata": {
    "collapsed": true
   },
   "outputs": [],
   "source": [
    "import pandas as pd\n"
   ]
  },
  {
   "cell_type": "code",
   "execution_count": 7,
   "outputs": [
    {
     "name": "stdout",
     "output_type": "stream",
     "text": [
      "         Gender                               Preferences Partner\n",
      "Name                                                             \n",
      "Anne          f  [Dieter, Emil, Claudio, Berthold, Anton]    None\n",
      "Berta         f  [Dieter, Emil, Claudio, Berthold, Anton]    None\n",
      "Claudia       f  [Berthold, Anton, Dieter, Emil, Claudio]    None\n",
      "Diana         f  [Claudio, Berthold, Anton, Dieter, Emil]    None\n",
      "Fiona         f  [Dieter, Emil, Claudio, Berthold, Anton]    None\n",
      "Anton         m      [Claudia, Fiona, Diana, Berta, Anne]    None\n",
      "Berthold      m      [Claudia, Fiona, Diana, Berta, Anne]    None\n",
      "Claudio       m      [Berta, Anne, Claudia, Fiona, Diana]    None\n",
      "Dieter        m      [Diana, Berta, Anne, Claudia, Fiona]    None\n",
      "Emil          m      [Fiona, Diana, Berta, Anne, Claudia]    None\n"
     ]
    }
   ],
   "source": [
    "df_people = pd.DataFrame()\n",
    "df_people = pd.read_excel(\"PeopleList.xlsx\")\n",
    "df_people[\"Preferences\"] = df_people[\"Preferences\"].str.split(\", \", expand=False)\n",
    "df_people = df_people.set_index(\"Name\")\n",
    "df_people[\"Partner\"] = None\n",
    "print(df_people)"
   ],
   "metadata": {
    "collapsed": false
   }
  },
  {
   "cell_type": "code",
   "execution_count": 8,
   "outputs": [],
   "source": [
    "while pd.isnull(df_people[\"Partner\"]).any():\n",
    "    for man_idx, man_row in df_people.loc[(df_people[\"Gender\"] == \"m\") & (df_people[\"Partner\"].isnull())].iterrows():\n",
    "        for woman_idx in man_row[\"Preferences\"]:\n",
    "            if df_people.loc[woman_idx,\"Partner\"] is None:\n",
    "                df_people.loc[man_idx, \"Partner\"] = woman_idx\n",
    "                df_people.loc[woman_idx, \"Partner\"] = man_idx\n",
    "                break\n",
    "            else:\n",
    "                current_partner_woman = df_people.loc[woman_idx, \"Partner\"]\n",
    "                current_partner_man = df_people.loc[man_idx, \"Partner\"]\n",
    "                preference_list = df_people.loc[woman_idx, \"Preferences\"]\n",
    "\n",
    "                if preference_list.index(man_idx) < preference_list.index(current_partner_woman):\n",
    "                    df_people.loc[current_partner_woman, \"Partner\"] = None\n",
    "                    df_people.loc[man_idx, \"Partner\"] = woman_idx\n",
    "                    df_people.loc[woman_idx, \"Partner\"] = man_idx\n",
    "                    break"
   ],
   "metadata": {
    "collapsed": false
   }
  },
  {
   "cell_type": "code",
   "execution_count": 9,
   "outputs": [
    {
     "name": "stdout",
     "output_type": "stream",
     "text": [
      "         Gender                               Preferences   Partner\n",
      "Name                                                               \n",
      "Anne          f  [Dieter, Emil, Claudio, Berthold, Anton]   Claudio\n",
      "Berta         f  [Dieter, Emil, Claudio, Berthold, Anton]    Dieter\n",
      "Claudia       f  [Berthold, Anton, Dieter, Emil, Claudio]  Berthold\n",
      "Diana         f  [Claudio, Berthold, Anton, Dieter, Emil]     Anton\n",
      "Fiona         f  [Dieter, Emil, Claudio, Berthold, Anton]      Emil\n",
      "Anton         m      [Claudia, Fiona, Diana, Berta, Anne]     Diana\n",
      "Berthold      m      [Claudia, Fiona, Diana, Berta, Anne]   Claudia\n",
      "Claudio       m      [Berta, Anne, Claudia, Fiona, Diana]      Anne\n",
      "Dieter        m      [Diana, Berta, Anne, Claudia, Fiona]     Berta\n",
      "Emil          m      [Fiona, Diana, Berta, Anne, Claudia]     Fiona\n"
     ]
    }
   ],
   "source": [
    "\n",
    "print(df_people)"
   ],
   "metadata": {
    "collapsed": false
   }
  },
  {
   "cell_type": "code",
   "execution_count": null,
   "outputs": [],
   "source": [],
   "metadata": {
    "collapsed": false
   }
  }
 ],
 "metadata": {
  "kernelspec": {
   "display_name": "Python 3",
   "language": "python",
   "name": "python3"
  },
  "language_info": {
   "codemirror_mode": {
    "name": "ipython",
    "version": 2
   },
   "file_extension": ".py",
   "mimetype": "text/x-python",
   "name": "python",
   "nbconvert_exporter": "python",
   "pygments_lexer": "ipython2",
   "version": "2.7.6"
  }
 },
 "nbformat": 4,
 "nbformat_minor": 0
}
